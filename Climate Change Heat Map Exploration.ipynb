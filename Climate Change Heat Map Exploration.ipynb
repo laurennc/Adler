{
 "cells": [
  {
   "cell_type": "code",
   "execution_count": 1,
   "id": "0f17cc82",
   "metadata": {},
   "outputs": [],
   "source": [
    "import numpy as np\n",
    "import matplotlib.pyplot as plt\n",
    "import netCDF4"
   ]
  },
  {
   "cell_type": "code",
   "execution_count": 7,
   "id": "31d5300c",
   "metadata": {},
   "outputs": [],
   "source": [
    "filename = 'tas_Amon_onemean_rcp26_000.nc'\n",
    "nc = netCDF4.Dataset(filename, 'r')\n",
    "\n",
    "lats = nc.variables['lat'][:]\n",
    "lons = nc.variables['lon'][:]\n",
    "temps = nc.variables['tas'][:,:,:]\n",
    "times = np.arange(len(nc.variables['time']))\n",
    "years = 1861 + times"
   ]
  },
  {
   "cell_type": "code",
   "execution_count": 9,
   "id": "b90b5ad5",
   "metadata": {},
   "outputs": [
    {
     "name": "stdout",
     "output_type": "stream",
     "text": [
      "(2880, 72, 144)\n",
      "(2880,)\n",
      "(2880,)\n",
      "(72,)\n",
      "(144,)\n"
     ]
    }
   ],
   "source": [
    "print(temps.shape)\n",
    "print(years.shape)\n",
    "print(times.shape)\n",
    "print(lats.shape)\n",
    "print(lons.shape)"
   ]
  },
  {
   "cell_type": "code",
   "execution_count": 62,
   "id": "12a1098d",
   "metadata": {},
   "outputs": [
    {
     "data": {
      "text/plain": [
       "[<matplotlib.lines.Line2D at 0x1445ebdf0>]"
      ]
     },
     "execution_count": 62,
     "metadata": {},
     "output_type": "execute_result"
    },
    {
     "data": {
      "image/png": "[encoded data removed]",
      "text/plain": [
       "<Figure size 432x288 with 1 Axes>"
      ]
     },
     "metadata": {
      "needs_background": "light"
     },
     "output_type": "display_data"
    }
   ],
   "source": [
    "plt.plot(times[0::12],temps[0::12,35,55],'.')"
   ]
  },
  {
   "cell_type": "code",
   "execution_count": 50,
   "id": "41ebac31",
   "metadata": {},
   "outputs": [
    {
     "data": {
      "text/plain": [
       "(250,)"
      ]
     },
     "execution_count": 50,
     "metadata": {},
     "output_type": "execute_result"
    }
   ],
   "source": [
    "years[0:250].shape"
   ]
  },
  {
   "cell_type": "code",
   "execution_count": 52,
   "id": "688ceb96",
   "metadata": {},
   "outputs": [
    {
     "data": {
      "text/plain": [
       "masked_array(data=[248.40536, 238.84924, 228.05702, 222.28995, 221.75851,\n",
       "                   219.81915, 219.16551, 218.76897, 219.55492, 226.12895,\n",
       "                   237.73976, 247.67891, 248.41144, 238.38057, 228.28494,\n",
       "                   222.34772, 221.7516 , 220.37807, 219.03462, 218.46591,\n",
       "                   219.89911, 225.83055, 237.46498, 247.9609 , 248.02655,\n",
       "                   238.49855, 228.27579, 223.10748, 221.61717, 220.01985,\n",
       "                   219.18852, 218.59267, 219.34111, 225.57211, 237.61292,\n",
       "                   247.82253, 248.01947, 238.62085, 227.69516, 223.23962,\n",
       "                   221.8198 , 219.8012 , 218.64087, 218.20001, 219.2088 ,\n",
       "                   225.73466, 238.16263, 247.6427 , 248.33832, 238.93944,\n",
       "                   227.6414 , 222.69408, 220.94945, 219.71664, 219.23701,\n",
       "                   218.74672, 218.61737, 226.628  , 237.63057, 247.92397,\n",
       "                   247.85393, 238.54239, 227.62526, 222.95825, 221.53636,\n",
       "                   220.10884, 219.42326, 218.76422, 218.93533, 225.89967,\n",
       "                   237.57779, 247.17787, 248.11806, 238.6964 , 227.77155,\n",
       "                   222.29956, 221.37251, 220.1347 , 219.08014, 218.66428,\n",
       "                   219.67908, 226.4685 , 238.15706, 247.09137, 248.26398,\n",
       "                   238.75978, 227.48212, 222.88768, 221.71448, 219.91466,\n",
       "                   219.7283 , 219.3732 , 219.71927, 225.89049, 238.18756,\n",
       "                   248.22424, 248.3087 , 238.3921 , 227.28171, 223.02357,\n",
       "                   221.72174, 220.06822, 219.69804, 218.46164, 219.53537,\n",
       "                   226.21408, 237.54404, 247.5739 , 247.90807, 238.82043,\n",
       "                   227.47162, 222.06873, 221.67458, 220.19406, 219.63983,\n",
       "                   218.24103, 219.04573, 226.29   , 238.03996, 247.45541,\n",
       "                   248.14542, 238.89532, 228.07956, 222.43835, 221.6804 ,\n",
       "                   220.0865 , 219.45134, 219.07326, 220.31322, 226.0258 ,\n",
       "                   237.84045, 247.71512, 248.4021 , 238.48642, 228.08397,\n",
       "                   223.26656, 220.55994, 220.30594, 220.04257, 219.24547,\n",
       "                   219.67323, 226.85367, 238.07059, 248.33646, 248.4    ,\n",
       "                   238.52707, 227.66351, 222.94588, 221.73277, 220.8818 ,\n",
       "                   218.34692, 219.39787, 220.04488, 226.89354, 238.45004,\n",
       "                   248.07031, 248.17471, 238.69478, 227.54951, 223.15804,\n",
       "                   221.79153, 220.05246, 218.63013, 218.65715, 220.03967,\n",
       "                   225.97412, 237.80772, 248.01065, 248.39345, 238.16946,\n",
       "                   227.97343, 223.17961, 221.86935, 219.93265, 218.15547,\n",
       "                   218.37828, 218.78174, 226.08711, 237.49716, 247.64403,\n",
       "                   248.31981, 238.70343, 228.09103, 222.82321, 220.46745,\n",
       "                   220.23453, 219.79344, 217.95772, 218.94307, 225.92584,\n",
       "                   237.55855, 247.46648, 248.21861, 238.77864, 227.95103,\n",
       "                   223.8157 , 221.63991, 220.49995, 219.34859, 218.79562,\n",
       "                   220.29929, 226.16763, 238.03488, 248.08974, 248.7282 ,\n",
       "                   238.72641, 228.38983, 223.22816, 221.49397, 220.16881,\n",
       "                   219.24742, 218.63664, 218.88779, 225.89581, 237.87944,\n",
       "                   247.84528, 248.44206, 238.87416, 227.5261 , 223.69507,\n",
       "                   220.98438, 220.94109, 218.90063, 218.95175, 218.95494,\n",
       "                   225.70801, 238.1374 , 247.36255, 248.62521, 238.43861,\n",
       "                   228.43283, 223.48322, 221.17091, 220.67996, 220.14726,\n",
       "                   218.66296, 219.68459, 226.14926, 237.63426, 247.37416,\n",
       "                   248.10394, 238.33344, 227.665  , 222.63873, 221.896  ,\n",
       "                   219.87935, 218.74739, 218.6595 , 219.38669, 226.0803 ],\n",
       "             mask=False,\n",
       "       fill_value=1e+20,\n",
       "            dtype=float32)"
      ]
     },
     "execution_count": 52,
     "metadata": {},
     "output_type": "execute_result"
    }
   ],
   "source": [
    "temps[0:250,1,1]"
   ]
  },
  {
   "cell_type": "code",
   "execution_count": null,
   "id": "d54e4e6e",
   "metadata": {},
   "outputs": [],
   "source": []
  }
 ],
 "metadata": {
  "kernelspec": {
   "display_name": "Python 3",
   "language": "python",
   "name": "python3"
  },
  "language_info": {
   "codemirror_mode": {
    "name": "ipython",
    "version": 3
   },
   "file_extension": ".py",
   "mimetype": "text/x-python",
   "name": "python",
   "nbconvert_exporter": "python",
   "pygments_lexer": "ipython3",
   "version": "3.9.10"
  }
 },
 "nbformat": 4,
 "nbformat_minor": 5
}
